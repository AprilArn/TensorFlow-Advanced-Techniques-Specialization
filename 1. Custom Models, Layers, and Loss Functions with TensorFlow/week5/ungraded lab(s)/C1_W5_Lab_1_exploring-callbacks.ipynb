{
 "cells": [
  {
   "cell_type": "markdown",
   "metadata": {
    "colab_type": "text",
    "id": "view-in-github"
   },
   "source": [
    "<a href=\"https://colab.research.google.com/github/https-deeplearning-ai/tensorflow-3-public/blob/main/Course%201%20-%20Custom%20Models%2C%20Layers%20and%20Loss%20Functions/Week%205%20-%20Callbacks/C1_W5_Lab_1_exploring-callbacks.ipynb\" target=\"_parent\"><img src=\"https://colab.research.google.com/assets/colab-badge.svg\" alt=\"Open In Colab\"/></a>"
   ]
  },
  {
   "cell_type": "markdown",
   "metadata": {
    "colab_type": "text",
    "id": "0c_TYhQOUe1j"
   },
   "source": [
    "# Ungraded Lab: Introduction to Keras callbacks\n",
    "\n",
    "In Keras, `Callback` is a Python class meant to be subclassed to provide specific functionality, with a set of methods called at various stages of training (including batch/epoch start and ends), testing, and predicting. Callbacks are useful to get a view on internal states and statistics of the model during training. The methods of the callbacks can  be called at different stages of training/evaluating/inference. Keras has available [callbacks](https://keras.io/api/callbacks/) and we'll show how you can use it in the following sections. Please click the **Open in Colab** badge above to complete this exercise in Colab. This will allow you to take advantage of the free GPU runtime (for faster training) and compatibility with all the packages needed in this notebook."
   ]
  },
  {
   "cell_type": "markdown",
   "metadata": {
    "colab_type": "text",
    "id": "Uyl69EyRQx-f"
   },
   "source": [
    "## Model methods that take callbacks\n",
    "Users can supply a list of callbacks to the following `tf.keras.Model` methods:\n",
    "* [`fit()`](https://www.tensorflow.org/versions/r2.0/api_docs/python/tf/keras/Model#fit), [`fit_generator()`](https://www.tensorflow.org/versions/r2.0/api_docs/python/tf/keras/Model#fit_generator)\n",
    "Trains the model for a fixed number of epochs (iterations over a dataset, or data yielded batch-by-batch by a Python generator).\n",
    "* [`evaluate()`](https://www.tensorflow.org/versions/r2.0/api_docs/python/tf/keras/Model#evaluate), [`evaluate_generator()`](https://www.tensorflow.org/versions/r2.0/api_docs/python/tf/keras/Model#evaluate_generator)\n",
    "Evaluates the model for given data or data generator. Outputs the loss and metric values from the evaluation.\n",
    "* [`predict()`](https://www.tensorflow.org/versions/r2.0/api_docs/python/tf/keras/Model#predict), [`predict_generator()`](https://www.tensorflow.org/versions/r2.0/api_docs/python/tf/keras/Model#predict_generator)\n",
    "Generates output predictions for the input data or data generator."
   ]
  },
  {
   "cell_type": "markdown",
   "metadata": {},
   "source": [
    "## Imports"
   ]
  },
  {
   "cell_type": "code",
   "execution_count": 1,
   "metadata": {
    "colab": {},
    "colab_type": "code",
    "id": "AlT1Kh3uA9lZ"
   },
   "outputs": [
    {
     "name": "stdout",
     "output_type": "stream",
     "text": [
      "Version:  2.1.0\n"
     ]
    }
   ],
   "source": [
    "from __future__ import absolute_import, division, print_function, unicode_literals\n",
    "\n",
    "try:\n",
    "    # %tensorflow_version only exists in Colab.\n",
    "    %tensorflow_version 2.x\n",
    "except Exception:\n",
    "    pass\n",
    "\n",
    "import tensorflow as tf\n",
    "import tensorflow_datasets as tfds\n",
    "import matplotlib.pyplot as plt\n",
    "import io\n",
    "from PIL import Image\n",
    "\n",
    "from tensorflow.keras.callbacks import TensorBoard, EarlyStopping, LearningRateScheduler, ModelCheckpoint, CSVLogger, ReduceLROnPlateau\n",
    "%load_ext tensorboard\n",
    "\n",
    "import os\n",
    "import matplotlib.pylab as plt\n",
    "import numpy as np\n",
    "import math\n",
    "import datetime\n",
    "import pandas as pd\n",
    "\n",
    "print(\"Version: \", tf.__version__)\n",
    "tf.get_logger().setLevel('INFO')"
   ]
  },
  {
   "cell_type": "markdown",
   "metadata": {
    "colab_type": "text",
    "id": "HnSljqtsXKfb"
   },
   "source": [
    "# Examples of Keras callback applications\n",
    "The following section will guide you through creating simple [Callback](https://keras.io/api/callbacks/) applications."
   ]
  },
  {
   "cell_type": "code",
   "execution_count": 2,
   "metadata": {
    "colab": {},
    "colab_type": "code",
    "id": "spskRuxvCYQE"
   },
   "outputs": [],
   "source": [
    "# Download and prepare the horses or humans dataset\n",
    "\n",
    "# horses_or_humans 3.0.0 has already been downloaded for you\n",
    "path = \"./tensorflow_datasets\"\n",
    "splits, info = tfds.load('horses_or_humans', data_dir=path, as_supervised=True, with_info=True, split=['train[:80%]', 'train[80%:]', 'test'])\n",
    "\n",
    "(train_examples, validation_examples, test_examples) = splits\n",
    "\n",
    "num_examples = info.splits['train'].num_examples\n",
    "num_classes = info.features['label'].num_classes"
   ]
  },
  {
   "cell_type": "code",
   "execution_count": 3,
   "metadata": {
    "colab": {},
    "colab_type": "code",
    "id": "veIsubKTCZsN"
   },
   "outputs": [],
   "source": [
    "SIZE = 150 #@param {type:\"slider\", min:64, max:300, step:1}\n",
    "IMAGE_SIZE = (SIZE, SIZE)"
   ]
  },
  {
   "cell_type": "code",
   "execution_count": 4,
   "metadata": {
    "colab": {},
    "colab_type": "code",
    "id": "faajLlErCb1S"
   },
   "outputs": [],
   "source": [
    "def format_image(image, label):\n",
    "  image = tf.image.resize(image, IMAGE_SIZE) / 255.0\n",
    "  return  image, label"
   ]
  },
  {
   "cell_type": "code",
   "execution_count": 5,
   "metadata": {
    "colab": {},
    "colab_type": "code",
    "id": "AVXPuU12Cdka"
   },
   "outputs": [],
   "source": [
    "BATCH_SIZE = 32 #@param {type:\"integer\"}"
   ]
  },
  {
   "cell_type": "code",
   "execution_count": 6,
   "metadata": {
    "colab": {},
    "colab_type": "code",
    "id": "0lHDkFVaCe48"
   },
   "outputs": [],
   "source": [
    "train_batches = train_examples.shuffle(num_examples // 4).map(format_image).batch(BATCH_SIZE).prefetch(1)\n",
    "validation_batches = validation_examples.map(format_image).batch(BATCH_SIZE).prefetch(1)\n",
    "test_batches = test_examples.map(format_image).batch(1)"
   ]
  },
  {
   "cell_type": "code",
   "execution_count": 7,
   "metadata": {
    "colab": {},
    "colab_type": "code",
    "id": "DxsCqEIkCgUt"
   },
   "outputs": [
    {
     "data": {
      "text/plain": [
       "TensorShape([32, 150, 150, 3])"
      ]
     },
     "execution_count": 7,
     "metadata": {},
     "output_type": "execute_result"
    }
   ],
   "source": [
    "for image_batch, label_batch in train_batches.take(1):\n",
    "  pass\n",
    "\n",
    "image_batch.shape"
   ]
  },
  {
   "cell_type": "code",
   "execution_count": 8,
   "metadata": {
    "colab": {},
    "colab_type": "code",
    "id": "iDBpWvHXCh2A"
   },
   "outputs": [],
   "source": [
    "def build_model(dense_units, input_shape=IMAGE_SIZE + (3,)):\n",
    "  model = tf.keras.models.Sequential([\n",
    "      tf.keras.layers.Conv2D(16, (3, 3), activation='relu', input_shape=input_shape),\n",
    "      tf.keras.layers.MaxPooling2D(2, 2),\n",
    "      tf.keras.layers.Conv2D(32, (3, 3), activation='relu'),\n",
    "      tf.keras.layers.MaxPooling2D(2, 2),\n",
    "      tf.keras.layers.Conv2D(64, (3, 3), activation='relu'),\n",
    "      tf.keras.layers.MaxPooling2D(2, 2),\n",
    "      tf.keras.layers.Flatten(),\n",
    "      tf.keras.layers.Dense(dense_units, activation='relu'),\n",
    "      tf.keras.layers.Dense(2, activation='softmax')\n",
    "  ])\n",
    "  return model"
   ]
  },
  {
   "cell_type": "markdown",
   "metadata": {
    "colab_type": "text",
    "id": "0ZKGkjagENSw"
   },
   "source": [
    "## [TensorBoard](https://keras.io/api/callbacks/tensorboard/)\n",
    "\n",
    "Enable visualizations for TensorBoard."
   ]
  },
  {
   "cell_type": "code",
   "execution_count": 9,
   "metadata": {
    "colab": {},
    "colab_type": "code",
    "id": "CeiD2WVEHbex"
   },
   "outputs": [],
   "source": [
    "!rm -rf logs"
   ]
  },
  {
   "cell_type": "code",
   "execution_count": 10,
   "metadata": {
    "colab": {},
    "colab_type": "code",
    "id": "PpLwPLnAEOzv"
   },
   "outputs": [
    {
     "name": "stdout",
     "output_type": "stream",
     "text": [
      "Epoch 1/10\n",
      "26/26 [==============================] - 20s 763ms/step - loss: 0.6688 - accuracy: 0.5888 - val_loss: 0.6563 - val_accuracy: 0.8000\n",
      "Epoch 2/10\n",
      "26/26 [==============================] - 19s 734ms/step - loss: 0.6283 - accuracy: 0.6959 - val_loss: 0.6088 - val_accuracy: 0.7561\n",
      "Epoch 3/10\n",
      "26/26 [==============================] - 19s 723ms/step - loss: 0.5946 - accuracy: 0.7092 - val_loss: 0.6141 - val_accuracy: 0.5951\n",
      "Epoch 4/10\n",
      "26/26 [==============================] - 19s 734ms/step - loss: 0.5495 - accuracy: 0.7324 - val_loss: 0.5058 - val_accuracy: 0.8098\n",
      "Epoch 5/10\n",
      "26/26 [==============================] - 19s 731ms/step - loss: 0.4694 - accuracy: 0.8345 - val_loss: 0.5173 - val_accuracy: 0.7463\n",
      "Epoch 6/10\n",
      "26/26 [==============================] - 19s 735ms/step - loss: 0.4457 - accuracy: 0.7871 - val_loss: 0.4045 - val_accuracy: 0.8829\n",
      "Epoch 7/10\n",
      "26/26 [==============================] - 19s 731ms/step - loss: 0.3628 - accuracy: 0.8650 - val_loss: 0.3202 - val_accuracy: 0.8878\n",
      "Epoch 8/10\n",
      "26/26 [==============================] - 19s 730ms/step - loss: 0.3164 - accuracy: 0.8844 - val_loss: 0.2887 - val_accuracy: 0.8683\n",
      "Epoch 9/10\n",
      "26/26 [==============================] - 19s 739ms/step - loss: 0.2906 - accuracy: 0.8893 - val_loss: 0.3012 - val_accuracy: 0.8878\n",
      "Epoch 10/10\n",
      "26/26 [==============================] - 19s 734ms/step - loss: 0.2340 - accuracy: 0.9136 - val_loss: 0.5746 - val_accuracy: 0.6927\n"
     ]
    },
    {
     "data": {
      "text/plain": [
       "<tensorflow.python.keras.callbacks.History at 0x7123523897d0>"
      ]
     },
     "execution_count": 10,
     "metadata": {},
     "output_type": "execute_result"
    }
   ],
   "source": [
    "model = build_model(dense_units=256)\n",
    "model.compile(\n",
    "    optimizer='sgd',\n",
    "    loss='sparse_categorical_crossentropy', \n",
    "    metrics=['accuracy'])\n",
    "  \n",
    "logdir = os.path.join(\"logs\", datetime.datetime.now().strftime(\"%Y%m%d-%H%M%S\"))\n",
    "tensorboard_callback = tf.keras.callbacks.TensorBoard(logdir)\n",
    "\n",
    "model.fit(train_batches, \n",
    "          epochs=10, \n",
    "          validation_data=validation_batches, \n",
    "          callbacks=[tensorboard_callback])"
   ]
  },
  {
   "cell_type": "code",
   "execution_count": 11,
   "metadata": {
    "colab": {},
    "colab_type": "code",
    "id": "iJunWOjZE0ir"
   },
   "outputs": [
    {
     "data": {
      "text/html": [
       "\n",
       "      <iframe id=\"tensorboard-frame-2779177302957119\" width=\"100%\" height=\"800\" frameborder=\"0\">\n",
       "      </iframe>\n",
       "      <script>\n",
       "        (function() {\n",
       "          const frame = document.getElementById(\"tensorboard-frame-2779177302957119\");\n",
       "          const url = new URL(\"/\", window.location);\n",
       "          url.port = 6007;\n",
       "          frame.src = url;\n",
       "        })();\n",
       "      </script>\n",
       "  "
      ],
      "text/plain": [
       "<IPython.core.display.HTML object>"
      ]
     },
     "metadata": {},
     "output_type": "display_data"
    }
   ],
   "source": [
    "%tensorboard --logdir logs"
   ]
  },
  {
   "cell_type": "markdown",
   "metadata": {
    "colab_type": "text",
    "id": "wv9H4Pc2Mfl7"
   },
   "source": [
    "## [Model Checkpoint](https://keras.io/api/callbacks/model_checkpoint/)\n",
    "\n",
    "Callback to save the Keras model or model weights at some frequency."
   ]
  },
  {
   "cell_type": "code",
   "execution_count": 12,
   "metadata": {
    "colab": {},
    "colab_type": "code",
    "id": "PYV4FJ8iMmDq"
   },
   "outputs": [
    {
     "name": "stdout",
     "output_type": "stream",
     "text": [
      "Epoch 1/5\n",
      "\n",
      "Epoch 00001: saving model to weights.01-0.71.h5\n",
      "26/26 - 20s - loss: 0.6744 - accuracy: 0.5876 - val_loss: 0.7089 - val_accuracy: 0.4341\n",
      "Epoch 2/5\n",
      "\n",
      "Epoch 00002: saving model to weights.02-0.61.h5\n",
      "26/26 - 19s - loss: 0.6353 - accuracy: 0.6691 - val_loss: 0.6108 - val_accuracy: 0.8000\n",
      "Epoch 3/5\n",
      "\n",
      "Epoch 00003: saving model to weights.03-0.54.h5\n",
      "26/26 - 19s - loss: 0.5772 - accuracy: 0.7640 - val_loss: 0.5445 - val_accuracy: 0.8341\n",
      "Epoch 4/5\n",
      "\n",
      "Epoch 00004: saving model to weights.04-0.52.h5\n",
      "26/26 - 19s - loss: 0.5181 - accuracy: 0.7737 - val_loss: 0.5232 - val_accuracy: 0.7463\n",
      "Epoch 5/5\n",
      "\n",
      "Epoch 00005: saving model to weights.05-0.43.h5\n",
      "26/26 - 19s - loss: 0.4750 - accuracy: 0.8005 - val_loss: 0.4349 - val_accuracy: 0.7951\n"
     ]
    },
    {
     "data": {
      "text/plain": [
       "<tensorflow.python.keras.callbacks.History at 0x712352256ad0>"
      ]
     },
     "execution_count": 12,
     "metadata": {},
     "output_type": "execute_result"
    }
   ],
   "source": [
    "model = build_model(dense_units=256)\n",
    "model.compile(\n",
    "    optimizer='sgd',\n",
    "    loss='sparse_categorical_crossentropy', \n",
    "    metrics=['accuracy'])\n",
    "  \n",
    "model.fit(train_batches, \n",
    "          epochs=5, \n",
    "          validation_data=validation_batches, \n",
    "          verbose=2,\n",
    "          callbacks=[ModelCheckpoint('weights.{epoch:02d}-{val_loss:.2f}.h5', verbose=1),\n",
    "          ])"
   ]
  },
  {
   "cell_type": "code",
   "execution_count": 13,
   "metadata": {
    "colab": {},
    "colab_type": "code",
    "id": "oGvjQ8IlMmK6"
   },
   "outputs": [
    {
     "name": "stdout",
     "output_type": "stream",
     "text": [
      "\n",
      "Epoch 00001: saving model to saved_model\n",
      "WARNING:tensorflow:From /opt/conda/lib/python3.7/site-packages/tensorflow_core/python/ops/resource_variable_ops.py:1786: calling BaseResourceVariable.__init__ (from tensorflow.python.ops.resource_variable_ops) with constraint is deprecated and will be removed in a future version.\n",
      "Instructions for updating:\n",
      "If using Keras pass *_constraint arguments to layers.\n"
     ]
    },
    {
     "name": "stderr",
     "output_type": "stream",
     "text": [
      "WARNING:tensorflow:From /opt/conda/lib/python3.7/site-packages/tensorflow_core/python/ops/resource_variable_ops.py:1786: calling BaseResourceVariable.__init__ (from tensorflow.python.ops.resource_variable_ops) with constraint is deprecated and will be removed in a future version.\n",
      "Instructions for updating:\n",
      "If using Keras pass *_constraint arguments to layers.\n"
     ]
    },
    {
     "name": "stdout",
     "output_type": "stream",
     "text": [
      "INFO:tensorflow:Assets written to: saved_model/assets\n"
     ]
    },
    {
     "name": "stderr",
     "output_type": "stream",
     "text": [
      "INFO:tensorflow:Assets written to: saved_model/assets\n"
     ]
    },
    {
     "name": "stdout",
     "output_type": "stream",
     "text": [
      "26/26 - 20s - loss: 0.6695 - accuracy: 0.5912 - val_loss: 0.7307 - val_accuracy: 0.4341\n"
     ]
    },
    {
     "data": {
      "text/plain": [
       "<tensorflow.python.keras.callbacks.History at 0x71235210ec50>"
      ]
     },
     "execution_count": 13,
     "metadata": {},
     "output_type": "execute_result"
    }
   ],
   "source": [
    "model = build_model(dense_units=256)\n",
    "model.compile(\n",
    "    optimizer='sgd',\n",
    "    loss='sparse_categorical_crossentropy', \n",
    "    metrics=['accuracy'])\n",
    "  \n",
    "model.fit(train_batches, \n",
    "          epochs=1, \n",
    "          validation_data=validation_batches, \n",
    "          verbose=2,\n",
    "          callbacks=[ModelCheckpoint('saved_model', verbose=1)\n",
    "          ])"
   ]
  },
  {
   "cell_type": "code",
   "execution_count": 14,
   "metadata": {
    "colab": {},
    "colab_type": "code",
    "id": "Y1ConwoB0EjD"
   },
   "outputs": [
    {
     "name": "stdout",
     "output_type": "stream",
     "text": [
      "Epoch 1/2\n",
      "\n",
      "Epoch 00001: saving model to model.h5\n",
      "26/26 - 20s - loss: 0.6683 - accuracy: 0.5779 - val_loss: 0.6800 - val_accuracy: 0.4780\n",
      "Epoch 2/2\n",
      "\n",
      "Epoch 00002: saving model to model.h5\n",
      "26/26 - 20s - loss: 0.5913 - accuracy: 0.7007 - val_loss: 0.5494 - val_accuracy: 0.7854\n"
     ]
    },
    {
     "data": {
      "text/plain": [
       "<tensorflow.python.keras.callbacks.History at 0x7123516fb750>"
      ]
     },
     "execution_count": 14,
     "metadata": {},
     "output_type": "execute_result"
    }
   ],
   "source": [
    "model = build_model(dense_units=256)\n",
    "model.compile(\n",
    "    optimizer='sgd',\n",
    "    loss='sparse_categorical_crossentropy', \n",
    "    metrics=['accuracy'])\n",
    "  \n",
    "model.fit(train_batches, \n",
    "          epochs=2, \n",
    "          validation_data=validation_batches, \n",
    "          verbose=2,\n",
    "          callbacks=[ModelCheckpoint('model.h5', verbose=1)\n",
    "          ])"
   ]
  },
  {
   "cell_type": "markdown",
   "metadata": {
    "colab_type": "text",
    "id": "kptNF0--Lznv"
   },
   "source": [
    "## [Early stopping](https://keras.io/api/callbacks/early_stopping/)\n",
    "\n",
    "Stop training when a monitored metric has stopped improving."
   ]
  },
  {
   "cell_type": "code",
   "execution_count": 15,
   "metadata": {
    "colab": {},
    "colab_type": "code",
    "id": "KJOJTJYdCkdY"
   },
   "outputs": [
    {
     "name": "stdout",
     "output_type": "stream",
     "text": [
      "Epoch 1/50\n",
      "26/26 - 20s - loss: 0.6730 - accuracy: 0.5961 - val_loss: 0.6738 - val_accuracy: 0.4780\n",
      "Epoch 2/50\n",
      "26/26 - 19s - loss: 0.6270 - accuracy: 0.6776 - val_loss: 0.6634 - val_accuracy: 0.4976\n",
      "Epoch 3/50\n",
      "26/26 - 19s - loss: 0.6033 - accuracy: 0.6727 - val_loss: 0.6592 - val_accuracy: 0.5073\n",
      "Epoch 4/50\n",
      "26/26 - 19s - loss: 0.5417 - accuracy: 0.7518 - val_loss: 0.4828 - val_accuracy: 0.8537\n",
      "Epoch 5/50\n",
      "26/26 - 19s - loss: 0.4699 - accuracy: 0.8212 - val_loss: 0.4056 - val_accuracy: 0.9024\n",
      "Epoch 6/50\n",
      "26/26 - 19s - loss: 0.4018 - accuracy: 0.8455 - val_loss: 0.4163 - val_accuracy: 0.8098\n",
      "Epoch 7/50\n",
      "26/26 - 19s - loss: 0.3299 - accuracy: 0.8978 - val_loss: 0.2920 - val_accuracy: 0.8927\n",
      "Epoch 8/50\n",
      "26/26 - 19s - loss: 0.2453 - accuracy: 0.9331 - val_loss: 0.1785 - val_accuracy: 0.9756\n",
      "Epoch 9/50\n",
      "26/26 - 19s - loss: 0.2173 - accuracy: 0.9234 - val_loss: 0.1707 - val_accuracy: 0.9659\n",
      "Epoch 10/50\n",
      "26/26 - 19s - loss: 0.1490 - accuracy: 0.9635 - val_loss: 0.1185 - val_accuracy: 0.9805\n",
      "Epoch 11/50\n",
      "26/26 - 19s - loss: 0.1314 - accuracy: 0.9599 - val_loss: 0.1123 - val_accuracy: 0.9707\n",
      "Epoch 12/50\n",
      "26/26 - 19s - loss: 0.1242 - accuracy: 0.9574 - val_loss: 0.1094 - val_accuracy: 0.9707\n",
      "Epoch 13/50\n",
      "Restoring model weights from the end of the best epoch.\n",
      "26/26 - 19s - loss: 0.0939 - accuracy: 0.9781 - val_loss: 0.1179 - val_accuracy: 0.9561\n",
      "Epoch 00013: early stopping\n"
     ]
    },
    {
     "data": {
      "text/plain": [
       "<tensorflow.python.keras.callbacks.History at 0x71235152a1d0>"
      ]
     },
     "execution_count": 15,
     "metadata": {},
     "output_type": "execute_result"
    }
   ],
   "source": [
    "model = build_model(dense_units=256)\n",
    "model.compile(\n",
    "    optimizer='sgd',\n",
    "    loss='sparse_categorical_crossentropy', \n",
    "    metrics=['accuracy'])\n",
    "  \n",
    "model.fit(train_batches, \n",
    "          epochs=50, \n",
    "          validation_data=validation_batches, \n",
    "          verbose=2,\n",
    "          callbacks=[EarlyStopping(\n",
    "              patience=3,\n",
    "              min_delta=0.05,\n",
    "              baseline=0.8,\n",
    "              mode='min',\n",
    "              monitor='val_loss',\n",
    "              restore_best_weights=True,\n",
    "              verbose=1)\n",
    "          ])"
   ]
  },
  {
   "cell_type": "markdown",
   "metadata": {
    "colab_type": "text",
    "id": "8mDzWUD4Pqq5"
   },
   "source": [
    "## [CSV Logger](https://keras.io/api/callbacks/csv_logger/)\n",
    "\n",
    "Callback that streams epoch results to a CSV file."
   ]
  },
  {
   "cell_type": "code",
   "execution_count": 16,
   "metadata": {
    "colab": {},
    "colab_type": "code",
    "id": "cffnMpmGPtMh"
   },
   "outputs": [
    {
     "name": "stdout",
     "output_type": "stream",
     "text": [
      "Epoch 1/5\n",
      "26/26 [==============================] - 20s 753ms/step - loss: 0.6766 - accuracy: 0.5535 - val_loss: 0.6989 - val_accuracy: 0.4390\n",
      "Epoch 2/5\n",
      "26/26 [==============================] - 19s 737ms/step - loss: 0.6207 - accuracy: 0.6691 - val_loss: 0.6151 - val_accuracy: 0.6244\n",
      "Epoch 3/5\n",
      "26/26 [==============================] - 19s 746ms/step - loss: 0.5551 - accuracy: 0.7555 - val_loss: 0.5108 - val_accuracy: 0.8049\n",
      "Epoch 4/5\n",
      "26/26 [==============================] - 19s 727ms/step - loss: 0.4829 - accuracy: 0.8041 - val_loss: 0.5379 - val_accuracy: 0.6976\n",
      "Epoch 5/5\n",
      "26/26 [==============================] - 19s 731ms/step - loss: 0.3970 - accuracy: 0.8650 - val_loss: 0.3740 - val_accuracy: 0.8780\n"
     ]
    },
    {
     "data": {
      "text/plain": [
       "<tensorflow.python.keras.callbacks.History at 0x712352043d10>"
      ]
     },
     "execution_count": 16,
     "metadata": {},
     "output_type": "execute_result"
    }
   ],
   "source": [
    "model = build_model(dense_units=256)\n",
    "model.compile(\n",
    "    optimizer='sgd',\n",
    "    loss='sparse_categorical_crossentropy', \n",
    "    metrics=['accuracy'])\n",
    "  \n",
    "csv_file = 'training.csv'\n",
    "\n",
    "model.fit(train_batches, \n",
    "          epochs=5, \n",
    "          validation_data=validation_batches, \n",
    "          callbacks=[CSVLogger(csv_file)\n",
    "          ])"
   ]
  },
  {
   "cell_type": "code",
   "execution_count": 17,
   "metadata": {
    "colab": {},
    "colab_type": "code",
    "id": "B9tkYi03QV7R"
   },
   "outputs": [
    {
     "data": {
      "text/html": [
       "<div>\n",
       "<style scoped>\n",
       "    .dataframe tbody tr th:only-of-type {\n",
       "        vertical-align: middle;\n",
       "    }\n",
       "\n",
       "    .dataframe tbody tr th {\n",
       "        vertical-align: top;\n",
       "    }\n",
       "\n",
       "    .dataframe thead th {\n",
       "        text-align: right;\n",
       "    }\n",
       "</style>\n",
       "<table border=\"1\" class=\"dataframe\">\n",
       "  <thead>\n",
       "    <tr style=\"text-align: right;\">\n",
       "      <th></th>\n",
       "      <th>epoch</th>\n",
       "      <th>accuracy</th>\n",
       "      <th>loss</th>\n",
       "      <th>val_accuracy</th>\n",
       "      <th>val_loss</th>\n",
       "    </tr>\n",
       "  </thead>\n",
       "  <tbody>\n",
       "    <tr>\n",
       "      <th>0</th>\n",
       "      <td>0</td>\n",
       "      <td>0.553528</td>\n",
       "      <td>0.677079</td>\n",
       "      <td>0.439024</td>\n",
       "      <td>0.698866</td>\n",
       "    </tr>\n",
       "    <tr>\n",
       "      <th>1</th>\n",
       "      <td>1</td>\n",
       "      <td>0.669100</td>\n",
       "      <td>0.620264</td>\n",
       "      <td>0.624390</td>\n",
       "      <td>0.615074</td>\n",
       "    </tr>\n",
       "    <tr>\n",
       "      <th>2</th>\n",
       "      <td>2</td>\n",
       "      <td>0.755474</td>\n",
       "      <td>0.555722</td>\n",
       "      <td>0.804878</td>\n",
       "      <td>0.510836</td>\n",
       "    </tr>\n",
       "    <tr>\n",
       "      <th>3</th>\n",
       "      <td>3</td>\n",
       "      <td>0.804136</td>\n",
       "      <td>0.482464</td>\n",
       "      <td>0.697561</td>\n",
       "      <td>0.537929</td>\n",
       "    </tr>\n",
       "    <tr>\n",
       "      <th>4</th>\n",
       "      <td>4</td>\n",
       "      <td>0.864964</td>\n",
       "      <td>0.398290</td>\n",
       "      <td>0.878049</td>\n",
       "      <td>0.374006</td>\n",
       "    </tr>\n",
       "  </tbody>\n",
       "</table>\n",
       "</div>"
      ],
      "text/plain": [
       "   epoch  accuracy      loss  val_accuracy  val_loss\n",
       "0      0  0.553528  0.677079      0.439024  0.698866\n",
       "1      1  0.669100  0.620264      0.624390  0.615074\n",
       "2      2  0.755474  0.555722      0.804878  0.510836\n",
       "3      3  0.804136  0.482464      0.697561  0.537929\n",
       "4      4  0.864964  0.398290      0.878049  0.374006"
      ]
     },
     "execution_count": 17,
     "metadata": {},
     "output_type": "execute_result"
    }
   ],
   "source": [
    "pd.read_csv(csv_file).head()"
   ]
  },
  {
   "cell_type": "markdown",
   "metadata": {
    "colab_type": "text",
    "id": "Dt9C2Y9fRBKN"
   },
   "source": [
    "## [Learning Rate Scheduler](https://keras.io/api/callbacks/learning_rate_scheduler/)\n",
    "\n",
    "Updates the learning rate during training."
   ]
  },
  {
   "cell_type": "code",
   "execution_count": 18,
   "metadata": {
    "colab": {},
    "colab_type": "code",
    "id": "aJi-xY2VRC03"
   },
   "outputs": [
    {
     "name": "stdout",
     "output_type": "stream",
     "text": [
      "\n",
      "Epoch 00001: LearningRateScheduler reducing learning rate to 0.005.\n",
      "Epoch 1/5\n",
      "26/26 [==============================] - 21s 813ms/step - loss: 0.6855 - accuracy: 0.5280 - val_loss: 0.6816 - val_accuracy: 0.5951\n",
      "\n",
      "Epoch 00002: LearningRateScheduler reducing learning rate to 0.0025.\n",
      "Epoch 2/5\n",
      "26/26 [==============================] - 19s 726ms/step - loss: 0.6682 - accuracy: 0.5827 - val_loss: 0.6787 - val_accuracy: 0.5220\n",
      "\n",
      "Epoch 00003: LearningRateScheduler reducing learning rate to 0.00125.\n",
      "Epoch 3/5\n",
      "26/26 [==============================] - 19s 723ms/step - loss: 0.6608 - accuracy: 0.5852 - val_loss: 0.6702 - val_accuracy: 0.6000\n",
      "\n",
      "Epoch 00004: LearningRateScheduler reducing learning rate to 0.000625.\n",
      "Epoch 4/5\n",
      "26/26 [==============================] - 19s 731ms/step - loss: 0.6559 - accuracy: 0.6375 - val_loss: 0.6711 - val_accuracy: 0.5561\n",
      "\n",
      "Epoch 00005: LearningRateScheduler reducing learning rate to 0.0003125.\n",
      "Epoch 5/5\n",
      "26/26 [==============================] - 19s 735ms/step - loss: 0.6535 - accuracy: 0.6302 - val_loss: 0.6707 - val_accuracy: 0.5512\n"
     ]
    },
    {
     "data": {
      "text/plain": [
       "<tensorflow.python.keras.callbacks.History at 0x712351e6af90>"
      ]
     },
     "execution_count": 18,
     "metadata": {},
     "output_type": "execute_result"
    }
   ],
   "source": [
    "model = build_model(dense_units=256)\n",
    "model.compile(\n",
    "    optimizer='sgd',\n",
    "    loss='sparse_categorical_crossentropy', \n",
    "    metrics=['accuracy'])\n",
    "  \n",
    "def step_decay(epoch):\n",
    "\tinitial_lr = 0.01\n",
    "\tdrop = 0.5\n",
    "\tepochs_drop = 1\n",
    "\tlr = initial_lr * math.pow(drop, math.floor((1+epoch)/epochs_drop))\n",
    "\treturn lr\n",
    "\n",
    "model.fit(train_batches, \n",
    "          epochs=5, \n",
    "          validation_data=validation_batches, \n",
    "          callbacks=[LearningRateScheduler(step_decay, verbose=1),\n",
    "                    TensorBoard(log_dir='./log_dir')])"
   ]
  },
  {
   "cell_type": "code",
   "execution_count": 19,
   "metadata": {
    "colab": {},
    "colab_type": "code",
    "id": "M2S4n8nrbV91"
   },
   "outputs": [
    {
     "data": {
      "text/plain": [
       "Reusing TensorBoard on port 6006 (pid 13103), started 0:17:02 ago. (Use '!kill 13103' to kill it.)"
      ]
     },
     "metadata": {},
     "output_type": "display_data"
    },
    {
     "data": {
      "text/html": [
       "\n",
       "      <iframe id=\"tensorboard-frame-cc9417031d24b270\" width=\"100%\" height=\"800\" frameborder=\"0\">\n",
       "      </iframe>\n",
       "      <script>\n",
       "        (function() {\n",
       "          const frame = document.getElementById(\"tensorboard-frame-cc9417031d24b270\");\n",
       "          const url = new URL(\"/\", window.location);\n",
       "          url.port = 6006;\n",
       "          frame.src = url;\n",
       "        })();\n",
       "      </script>\n",
       "  "
      ],
      "text/plain": [
       "<IPython.core.display.HTML object>"
      ]
     },
     "metadata": {},
     "output_type": "display_data"
    }
   ],
   "source": [
    "%tensorboard --logdir log_dir"
   ]
  },
  {
   "cell_type": "markdown",
   "metadata": {
    "colab_type": "text",
    "id": "y0wcuQyJE_UK"
   },
   "source": [
    "## [ReduceLROnPlateau](https://keras.io/api/callbacks/reduce_lr_on_plateau/)\n",
    "\n",
    "Reduce learning rate when a metric has stopped improving."
   ]
  },
  {
   "cell_type": "code",
   "execution_count": 20,
   "metadata": {
    "colab": {},
    "colab_type": "code",
    "id": "4naxZ-eCFB27"
   },
   "outputs": [
    {
     "name": "stdout",
     "output_type": "stream",
     "text": [
      "Epoch 1/50\n",
      "26/26 [==============================] - 19s 748ms/step - loss: 0.6743 - accuracy: 0.5754 - val_loss: 0.6764 - val_accuracy: 0.5024\n",
      "Epoch 2/50\n",
      "25/26 [===========================>..] - ETA: 0s - loss: 0.6539 - accuracy: 0.6288\n",
      "Epoch 00002: ReduceLROnPlateau reducing learning rate to 0.0019999999552965165.\n",
      "26/26 [==============================] - 19s 723ms/step - loss: 0.6528 - accuracy: 0.6338 - val_loss: 0.6934 - val_accuracy: 0.4488\n",
      "Epoch 3/50\n",
      "26/26 [==============================] - 19s 716ms/step - loss: 0.6373 - accuracy: 0.6472 - val_loss: 0.6520 - val_accuracy: 0.5902\n",
      "Epoch 4/50\n",
      "26/26 [==============================] - 19s 731ms/step - loss: 0.6272 - accuracy: 0.7263 - val_loss: 0.6488 - val_accuracy: 0.5902\n",
      "Epoch 5/50\n",
      "26/26 [==============================] - 19s 743ms/step - loss: 0.6196 - accuracy: 0.7117 - val_loss: 0.6329 - val_accuracy: 0.6537\n",
      "Epoch 6/50\n",
      "26/26 [==============================] - 19s 734ms/step - loss: 0.6115 - accuracy: 0.7287 - val_loss: 0.6225 - val_accuracy: 0.6829\n",
      "Epoch 7/50\n",
      "26/26 [==============================] - 19s 719ms/step - loss: 0.6015 - accuracy: 0.7457 - val_loss: 0.6031 - val_accuracy: 0.7659\n",
      "Epoch 8/50\n",
      "26/26 [==============================] - 19s 731ms/step - loss: 0.5917 - accuracy: 0.7713 - val_loss: 0.5938 - val_accuracy: 0.7610\n",
      "Epoch 9/50\n",
      "25/26 [===========================>..] - ETA: 0s - loss: 0.5827 - accuracy: 0.7663\n",
      "Epoch 00009: ReduceLROnPlateau reducing learning rate to 0.001.\n",
      "26/26 [==============================] - 19s 719ms/step - loss: 0.5803 - accuracy: 0.7689 - val_loss: 0.6030 - val_accuracy: 0.6585\n",
      "Epoch 10/50\n",
      "26/26 [==============================] - 19s 734ms/step - loss: 0.5685 - accuracy: 0.7579 - val_loss: 0.5734 - val_accuracy: 0.7805\n",
      "Epoch 11/50\n",
      "26/26 [==============================] - 19s 723ms/step - loss: 0.5615 - accuracy: 0.7689 - val_loss: 0.5637 - val_accuracy: 0.8000\n",
      "Epoch 12/50\n",
      "25/26 [===========================>..] - ETA: 0s - loss: 0.5562 - accuracy: 0.7650\n",
      "Epoch 00012: ReduceLROnPlateau reducing learning rate to 0.001.\n",
      "26/26 [==============================] - 18s 708ms/step - loss: 0.5560 - accuracy: 0.7640 - val_loss: 0.5673 - val_accuracy: 0.7463\n",
      "Epoch 13/50\n",
      "26/26 [==============================] - 19s 727ms/step - loss: 0.5498 - accuracy: 0.7749 - val_loss: 0.5568 - val_accuracy: 0.7707\n",
      "Epoch 14/50\n",
      "26/26 [==============================] - 19s 724ms/step - loss: 0.5435 - accuracy: 0.7786 - val_loss: 0.5536 - val_accuracy: 0.7512\n",
      "Epoch 15/50\n",
      "26/26 [==============================] - 19s 723ms/step - loss: 0.5359 - accuracy: 0.7689 - val_loss: 0.5373 - val_accuracy: 0.7854\n",
      "Epoch 16/50\n",
      "26/26 [==============================] - 19s 723ms/step - loss: 0.5314 - accuracy: 0.7749 - val_loss: 0.5349 - val_accuracy: 0.7805\n",
      "Epoch 17/50\n",
      "25/26 [===========================>..] - ETA: 0s - loss: 0.5225 - accuracy: 0.7750\n",
      "Epoch 00017: ReduceLROnPlateau reducing learning rate to 0.001.\n",
      "26/26 [==============================] - 19s 716ms/step - loss: 0.5213 - accuracy: 0.7749 - val_loss: 0.5379 - val_accuracy: 0.7366\n",
      "Epoch 18/50\n",
      "25/26 [===========================>..] - ETA: 0s - loss: 0.5171 - accuracy: 0.7750\n",
      "Epoch 00018: ReduceLROnPlateau reducing learning rate to 0.001.\n",
      "26/26 [==============================] - 19s 719ms/step - loss: 0.5149 - accuracy: 0.7762 - val_loss: 0.5518 - val_accuracy: 0.6927\n",
      "Epoch 19/50\n",
      "26/26 [==============================] - 19s 727ms/step - loss: 0.5080 - accuracy: 0.7786 - val_loss: 0.5021 - val_accuracy: 0.8146\n",
      "Epoch 20/50\n",
      "26/26 [==============================] - 19s 719ms/step - loss: 0.5028 - accuracy: 0.7749 - val_loss: 0.5013 - val_accuracy: 0.7951\n",
      "Epoch 21/50\n",
      "26/26 [==============================] - 19s 735ms/step - loss: 0.4959 - accuracy: 0.7762 - val_loss: 0.4860 - val_accuracy: 0.8244\n",
      "Epoch 22/50\n",
      "25/26 [===========================>..] - ETA: 0s - loss: 0.4859 - accuracy: 0.8025\n",
      "Epoch 00022: ReduceLROnPlateau reducing learning rate to 0.001.\n",
      "26/26 [==============================] - 19s 722ms/step - loss: 0.4871 - accuracy: 0.7993 - val_loss: 0.4918 - val_accuracy: 0.7902\n",
      "Epoch 23/50\n",
      "25/26 [===========================>..] - ETA: 0s - loss: 0.4842 - accuracy: 0.7812\n",
      "Epoch 00023: ReduceLROnPlateau reducing learning rate to 0.001.\n",
      "26/26 [==============================] - 19s 727ms/step - loss: 0.4808 - accuracy: 0.7847 - val_loss: 0.5306 - val_accuracy: 0.7024\n",
      "Epoch 24/50\n",
      "25/26 [===========================>..] - ETA: 0s - loss: 0.4759 - accuracy: 0.7912\n",
      "Epoch 00024: ReduceLROnPlateau reducing learning rate to 0.001.\n",
      "26/26 [==============================] - 19s 727ms/step - loss: 0.4749 - accuracy: 0.7932 - val_loss: 0.4873 - val_accuracy: 0.7854\n",
      "Epoch 25/50\n",
      "26/26 [==============================] - 19s 738ms/step - loss: 0.4695 - accuracy: 0.7956 - val_loss: 0.4650 - val_accuracy: 0.8000\n",
      "Epoch 26/50\n",
      "26/26 [==============================] - 19s 719ms/step - loss: 0.4586 - accuracy: 0.7944 - val_loss: 0.4577 - val_accuracy: 0.8195\n",
      "Epoch 27/50\n",
      "25/26 [===========================>..] - ETA: 0s - loss: 0.4554 - accuracy: 0.7987\n",
      "Epoch 00027: ReduceLROnPlateau reducing learning rate to 0.001.\n",
      "26/26 [==============================] - 19s 720ms/step - loss: 0.4539 - accuracy: 0.8017 - val_loss: 0.4663 - val_accuracy: 0.7902\n",
      "Epoch 28/50\n",
      "26/26 [==============================] - 19s 719ms/step - loss: 0.4462 - accuracy: 0.8102 - val_loss: 0.4267 - val_accuracy: 0.8585\n",
      "Epoch 29/50\n",
      "25/26 [===========================>..] - ETA: 0s - loss: 0.4434 - accuracy: 0.8012\n",
      "Epoch 00029: ReduceLROnPlateau reducing learning rate to 0.001.\n",
      "26/26 [==============================] - 19s 731ms/step - loss: 0.4458 - accuracy: 0.7993 - val_loss: 0.4377 - val_accuracy: 0.8439\n",
      "Epoch 30/50\n",
      "25/26 [===========================>..] - ETA: 0s - loss: 0.4323 - accuracy: 0.8100\n",
      "Epoch 00030: ReduceLROnPlateau reducing learning rate to 0.001.\n",
      "26/26 [==============================] - 19s 722ms/step - loss: 0.4329 - accuracy: 0.8090 - val_loss: 0.4491 - val_accuracy: 0.8049\n",
      "Epoch 31/50\n",
      "26/26 [==============================] - 19s 715ms/step - loss: 0.4293 - accuracy: 0.8041 - val_loss: 0.4228 - val_accuracy: 0.8488\n",
      "Epoch 32/50\n",
      "25/26 [===========================>..] - ETA: 0s - loss: 0.4185 - accuracy: 0.8225\n",
      "Epoch 00032: ReduceLROnPlateau reducing learning rate to 0.001.\n",
      "26/26 [==============================] - 19s 731ms/step - loss: 0.4199 - accuracy: 0.8224 - val_loss: 0.4728 - val_accuracy: 0.7463\n",
      "Epoch 33/50\n",
      "26/26 [==============================] - 19s 712ms/step - loss: 0.4148 - accuracy: 0.8248 - val_loss: 0.3951 - val_accuracy: 0.8634\n",
      "Epoch 34/50\n",
      "26/26 [==============================] - 19s 720ms/step - loss: 0.4211 - accuracy: 0.8224 - val_loss: 0.3798 - val_accuracy: 0.8634\n",
      "Epoch 35/50\n",
      "26/26 [==============================] - 19s 730ms/step - loss: 0.4020 - accuracy: 0.8260 - val_loss: 0.3743 - val_accuracy: 0.8683\n",
      "Epoch 36/50\n",
      "25/26 [===========================>..] - ETA: 0s - loss: 0.4007 - accuracy: 0.8388\n",
      "Epoch 00036: ReduceLROnPlateau reducing learning rate to 0.001.\n",
      "26/26 [==============================] - 19s 712ms/step - loss: 0.3958 - accuracy: 0.8418 - val_loss: 0.4214 - val_accuracy: 0.8098\n",
      "Epoch 37/50\n",
      "25/26 [===========================>..] - ETA: 0s - loss: 0.3895 - accuracy: 0.8313\n",
      "Epoch 00037: ReduceLROnPlateau reducing learning rate to 0.001.\n",
      "26/26 [==============================] - 19s 738ms/step - loss: 0.3880 - accuracy: 0.8297 - val_loss: 0.4149 - val_accuracy: 0.8146\n",
      "Epoch 38/50\n",
      "25/26 [===========================>..] - ETA: 0s - loss: 0.3922 - accuracy: 0.8350\n",
      "Epoch 00038: ReduceLROnPlateau reducing learning rate to 0.001.\n",
      "26/26 [==============================] - 19s 723ms/step - loss: 0.3896 - accuracy: 0.8358 - val_loss: 0.3773 - val_accuracy: 0.8537\n",
      "Epoch 39/50\n",
      "26/26 [==============================] - 19s 715ms/step - loss: 0.3807 - accuracy: 0.8394 - val_loss: 0.3434 - val_accuracy: 0.8732\n",
      "Epoch 40/50\n",
      "25/26 [===========================>..] - ETA: 0s - loss: 0.3752 - accuracy: 0.8413\n",
      "Epoch 00040: ReduceLROnPlateau reducing learning rate to 0.001.\n",
      "26/26 [==============================] - 19s 727ms/step - loss: 0.3729 - accuracy: 0.8418 - val_loss: 0.3544 - val_accuracy: 0.8585\n",
      "Epoch 41/50\n",
      "25/26 [===========================>..] - ETA: 0s - loss: 0.3654 - accuracy: 0.8438\n",
      "Epoch 00041: ReduceLROnPlateau reducing learning rate to 0.001.\n",
      "26/26 [==============================] - 19s 719ms/step - loss: 0.3624 - accuracy: 0.8467 - val_loss: 0.3566 - val_accuracy: 0.8488\n",
      "Epoch 42/50\n",
      "25/26 [===========================>..] - ETA: 0s - loss: 0.3636 - accuracy: 0.8388\n",
      "Epoch 00042: ReduceLROnPlateau reducing learning rate to 0.001.\n",
      "26/26 [==============================] - 18s 708ms/step - loss: 0.3597 - accuracy: 0.8406 - val_loss: 0.3703 - val_accuracy: 0.8293\n",
      "Epoch 43/50\n",
      "25/26 [===========================>..] - ETA: 0s - loss: 0.3494 - accuracy: 0.8587\n",
      "Epoch 00043: ReduceLROnPlateau reducing learning rate to 0.001.\n",
      "26/26 [==============================] - 19s 731ms/step - loss: 0.3467 - accuracy: 0.8589 - val_loss: 0.3446 - val_accuracy: 0.8537\n",
      "Epoch 44/50\n",
      "25/26 [===========================>..] - ETA: 0s - loss: 0.3349 - accuracy: 0.8763\n",
      "Epoch 00044: ReduceLROnPlateau reducing learning rate to 0.001.\n",
      "26/26 [==============================] - 19s 715ms/step - loss: 0.3356 - accuracy: 0.8771 - val_loss: 0.3993 - val_accuracy: 0.7951\n",
      "Epoch 45/50\n",
      "26/26 [==============================] - 19s 723ms/step - loss: 0.3344 - accuracy: 0.8637 - val_loss: 0.3030 - val_accuracy: 0.9024\n",
      "Epoch 46/50\n",
      "25/26 [===========================>..] - ETA: 0s - loss: 0.3287 - accuracy: 0.8775\n",
      "Epoch 00046: ReduceLROnPlateau reducing learning rate to 0.001.\n",
      "26/26 [==============================] - 19s 742ms/step - loss: 0.3282 - accuracy: 0.8796 - val_loss: 0.3230 - val_accuracy: 0.8683\n",
      "Epoch 47/50\n",
      "26/26 [==============================] - 19s 727ms/step - loss: 0.3330 - accuracy: 0.8698 - val_loss: 0.2959 - val_accuracy: 0.9024\n",
      "Epoch 48/50\n",
      "25/26 [===========================>..] - ETA: 0s - loss: 0.3325 - accuracy: 0.8625\n",
      "Epoch 00048: ReduceLROnPlateau reducing learning rate to 0.001.\n",
      "26/26 [==============================] - 20s 750ms/step - loss: 0.3314 - accuracy: 0.8637 - val_loss: 0.4060 - val_accuracy: 0.7951\n",
      "Epoch 49/50\n",
      "25/26 [===========================>..] - ETA: 0s - loss: 0.3107 - accuracy: 0.8850\n",
      "Epoch 00049: ReduceLROnPlateau reducing learning rate to 0.001.\n",
      "26/26 [==============================] - 19s 719ms/step - loss: 0.3074 - accuracy: 0.8869 - val_loss: 0.3302 - val_accuracy: 0.8439\n",
      "Epoch 50/50\n",
      "26/26 [==============================] - 19s 727ms/step - loss: 0.3024 - accuracy: 0.8954 - val_loss: 0.2825 - val_accuracy: 0.9171\n"
     ]
    },
    {
     "data": {
      "text/plain": [
       "<tensorflow.python.keras.callbacks.History at 0x71235116e590>"
      ]
     },
     "execution_count": 20,
     "metadata": {},
     "output_type": "execute_result"
    }
   ],
   "source": [
    "model = build_model(dense_units=256)\n",
    "model.compile(\n",
    "    optimizer='sgd',\n",
    "    loss='sparse_categorical_crossentropy', \n",
    "    metrics=['accuracy'])\n",
    "  \n",
    "model.fit(train_batches, \n",
    "          epochs=50, \n",
    "          validation_data=validation_batches, \n",
    "          callbacks=[ReduceLROnPlateau(monitor='val_loss', \n",
    "                                       factor=0.2, verbose=1,\n",
    "                                       patience=1, min_lr=0.001),\n",
    "                     TensorBoard(log_dir='./log_dir')])"
   ]
  },
  {
   "cell_type": "code",
   "execution_count": 21,
   "metadata": {
    "colab": {},
    "colab_type": "code",
    "id": "isfTWP4NYudk"
   },
   "outputs": [
    {
     "data": {
      "text/plain": [
       "Reusing TensorBoard on port 6006 (pid 13103), started 0:32:46 ago. (Use '!kill 13103' to kill it.)"
      ]
     },
     "metadata": {},
     "output_type": "display_data"
    },
    {
     "data": {
      "text/html": [
       "\n",
       "      <iframe id=\"tensorboard-frame-33634e60bf4e02e0\" width=\"100%\" height=\"800\" frameborder=\"0\">\n",
       "      </iframe>\n",
       "      <script>\n",
       "        (function() {\n",
       "          const frame = document.getElementById(\"tensorboard-frame-33634e60bf4e02e0\");\n",
       "          const url = new URL(\"/\", window.location);\n",
       "          url.port = 6006;\n",
       "          frame.src = url;\n",
       "        })();\n",
       "      </script>\n",
       "  "
      ],
      "text/plain": [
       "<IPython.core.display.HTML object>"
      ]
     },
     "metadata": {},
     "output_type": "display_data"
    }
   ],
   "source": [
    "%tensorboard --logdir log_dir"
   ]
  }
 ],
 "metadata": {
  "colab": {
   "collapsed_sections": [],
   "include_colab_link": true,
   "name": "ExploringCallbacks.ipynb",
   "provenance": []
  },
  "kernelspec": {
   "display_name": "Python 3",
   "language": "python",
   "name": "python3"
  },
  "language_info": {
   "codemirror_mode": {
    "name": "ipython",
    "version": 3
   },
   "file_extension": ".py",
   "mimetype": "text/x-python",
   "name": "python",
   "nbconvert_exporter": "python",
   "pygments_lexer": "ipython3",
   "version": "3.7.6"
  }
 },
 "nbformat": 4,
 "nbformat_minor": 4
}
